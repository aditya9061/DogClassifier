{
 "cells": [
  {
   "cell_type": "code",
   "execution_count": 7,
   "metadata": {},
   "outputs": [],
   "source": [
    "import pandas as pd\n",
    "import numpy as np\n",
    "import tensorflow as tf\n",
    "import os,sys\n",
    "import pickle "
   ]
  },
  {
   "cell_type": "code",
   "execution_count": 8,
   "metadata": {},
   "outputs": [],
   "source": [
    "from glob import glob\n",
    "IMG_SHAPE=[128,128,3]\n",
    "num_classes=120\n",
    "train_data_path='dog-breed-identification/train'\n",
    "#train_label_path='dog-breed-identification\\train'\n",
    "test_data_path='dog-breed-identification/test'\n",
    "label_path='dog-breed-identification\\labels.csv'"
   ]
  },
  {
   "cell_type": "code",
   "execution_count": 9,
   "metadata": {},
   "outputs": [
    {
     "name": "stdout",
     "output_type": "stream",
     "text": [
      "120 classes\n"
     ]
    }
   ],
   "source": [
    "labels=pd.read_csv(label_path)\n",
    "labels=labels.set_index('id')\n",
    "class_names=labels['breed'].unique()\n",
    "num_classes=len(class_names)\n",
    "index_to_classes={i:c for i,c in enumerate(class_names)}\n",
    "classes_to_index={c:i for i,c in index_to_classes.items()}\n",
    "print(\"{} classes\".format(num_classes))"
   ]
  },
  {
   "cell_type": "code",
   "execution_count": 10,
   "metadata": {},
   "outputs": [],
   "source": [
    "all_ys=[]\n",
    "all_xs=[]\n",
    "breeds=labels['breed']\n",
    "for img_path in os.listdir(train_data_path):\n",
    "    \n",
    "    class_name=img_path.split(\".\")[0]\n",
    "    y=classes_to_index[breeds[class_name]]\n",
    "    img=tf.keras.preprocessing.image.load_img(os.path.join(train_data_path,img_path),target_size=IMG_SHAPE[0:2])\n",
    "    x=tf.keras.preprocessing.image.img_to_array(img)\n",
    "    all_ys.append(y)\n",
    "    all_xs.append(x)"
   ]
  },
  {
   "cell_type": "code",
   "execution_count": 11,
   "metadata": {},
   "outputs": [
    {
     "name": "stdout",
     "output_type": "stream",
     "text": [
      "X_train Shape: (10222, 128, 128, 3)\n",
      "Y_train Shape: (10222,)\n"
     ]
    }
   ],
   "source": [
    "X_train=np.array(all_xs,dtype=np.uint16)\n",
    "y_train=np.array(all_ys)\n",
    "print(\"X_train Shape:\",X_train.shape)\n",
    "print(\"Y_train Shape:\",y_train.shape)"
   ]
  },
  {
   "cell_type": "code",
   "execution_count": 12,
   "metadata": {},
   "outputs": [],
   "source": [
    "X_data=open('X_data_2','ab')\n",
    "pickle.dump(X_train,X_data)\n",
    "X_data.close()"
   ]
  },
  {
   "cell_type": "code",
   "execution_count": 13,
   "metadata": {},
   "outputs": [],
   "source": [
    "Y_data=open('Y_data_2','ab')\n",
    "pickle.dump(y_train,Y_data)\n",
    "Y_data.close()"
   ]
  },
  {
   "cell_type": "code",
   "execution_count": null,
   "metadata": {},
   "outputs": [],
   "source": []
  }
 ],
 "metadata": {
  "kernelspec": {
   "display_name": "Python 3",
   "language": "python",
   "name": "python3"
  },
  "language_info": {
   "codemirror_mode": {
    "name": "ipython",
    "version": 3
   },
   "file_extension": ".py",
   "mimetype": "text/x-python",
   "name": "python",
   "nbconvert_exporter": "python",
   "pygments_lexer": "ipython3",
   "version": "3.7.1"
  }
 },
 "nbformat": 4,
 "nbformat_minor": 4
}
